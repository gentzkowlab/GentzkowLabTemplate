{
 "cells": [
  {
   "cell_type": "markdown",
   "id": "246d15d4",
   "metadata": {},
   "source": [
    "# O Praeclarum Titulum  \n",
    "**Author 1, _Affiliation_**  \n",
    "**Author 2, _Affiliation_**  "
   ]
  },
  {
   "cell_type": "markdown",
   "id": "cd78ec7e",
   "metadata": {},
   "source": [
    "## Summary\n",
    "Lorem ipsum dolor sit amet, consectetur adipiscing elit, sed do eiusmod tempor incididunt ut labore et dolore magna aliqua. Ut enim ad minim veniam, quis nostrud exercitation ullamco laboris nisi ut aliquip ex ea commodo consequat. Duis aute irure dolor in reprehenderit in voluptate velit esse cillum dolore eu fugiat nulla pariatur. Excepteur sint occaecat cupidatat non proident, sunt in culpa qui officia deserunt mollit anim id est laborum.\n"
   ]
  },
  {
   "cell_type": "code",
   "execution_count": null,
   "id": "e9f2a9fb",
   "metadata": {},
   "outputs": [],
   "source": [
    "import os\n",
    "from pathlib import Path\n",
    "\n",
    "import pandas as pd\n",
    "import matplotlib.pyplot as plt"
   ]
  },
  {
   "cell_type": "code",
   "execution_count": null,
   "id": "56d810f1",
   "metadata": {},
   "outputs": [],
   "source": [
    "df = pd.read_csv(\"../input/mpg.csv\")\n",
    "\n",
    "plt.scatter(df['displ'], df['cty'], c=df['year'])\n",
    "plt.xlabel(\"Engine displacement (L)\")\n",
    "plt.ylabel(\"City fuel economy (mpg)\")\n",
    "plt.title(\"City MPG vs Engine Displacement\")\n",
    "plt.show()"
   ]
  }
 ],
 "metadata": {
  "language_info": {
   "name": "python"
  }
 },
 "nbformat": 4,
 "nbformat_minor": 5
}
